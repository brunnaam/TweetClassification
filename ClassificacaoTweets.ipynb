{
 "cells": [
  {
   "cell_type": "markdown",
   "metadata": {},
   "source": [
    "# Classificação de tweets no contexto político\n",
    "\n",
    "### Regressão Logística\n",
    "\n",
    "#### Brunna de Sousa Pereira Amorim\n"
   ]
  },
  {
   "cell_type": "code",
   "execution_count": 1,
   "metadata": {},
   "outputs": [
    {
     "name": "stderr",
     "output_type": "stream",
     "text": [
      "C:\\Users\\Brunna\\Anaconda2\\lib\\site-packages\\sklearn\\cross_validation.py:44: DeprecationWarning: This module was deprecated in version 0.18 in favor of the model_selection module into which all the refactored classes and functions are moved. Also note that the interface of the new CV iterators are different from that of this module. This module will be removed in 0.20.\n",
      "  \"This module will be removed in 0.20.\", DeprecationWarning)\n"
     ]
    }
   ],
   "source": [
    "import pandas as pd\n",
    "import numpy as np\n",
    "from sklearn.linear_model import LogisticRegression\n",
    "from sklearn.cross_validation import cross_val_score\n",
    "from sklearn.cross_validation import train_test_split\n",
    "from sklearn import metrics\n",
    "\n",
    "import matplotlib.pyplot as plt\n",
    "%config InlineBackend.figure_format = 'retina' \n",
    "%matplotlib inline"
   ]
  },
  {
   "cell_type": "code",
   "execution_count": 2,
   "metadata": {},
   "outputs": [
    {
     "data": {
      "text/html": [
       "<div>\n",
       "<style>\n",
       "    .dataframe thead tr:only-child th {\n",
       "        text-align: right;\n",
       "    }\n",
       "\n",
       "    .dataframe thead th {\n",
       "        text-align: left;\n",
       "    }\n",
       "\n",
       "    .dataframe tbody tr th {\n",
       "        vertical-align: top;\n",
       "    }\n",
       "</style>\n",
       "<table border=\"1\" class=\"dataframe\">\n",
       "  <thead>\n",
       "    <tr style=\"text-align: right;\">\n",
       "      <th></th>\n",
       "      <th>Unnamed: 0</th>\n",
       "      <th>text</th>\n",
       "      <th>favoriteCount</th>\n",
       "      <th>retweetCount</th>\n",
       "      <th>politico</th>\n",
       "    </tr>\n",
       "  </thead>\n",
       "  <tbody>\n",
       "    <tr>\n",
       "      <th>0</th>\n",
       "      <td>1</td>\n",
       "      <td>Retweeted D�cio Lima (@deciolimapt):  �Nunca f...</td>\n",
       "      <td>0</td>\n",
       "      <td>0</td>\n",
       "      <td>1</td>\n",
       "    </tr>\n",
       "    <tr>\n",
       "      <th>1</th>\n",
       "      <td>2</td>\n",
       "      <td>Vers�o estendida.  Aqui, Marcia Tiburi justif...</td>\n",
       "      <td>0</td>\n",
       "      <td>86</td>\n",
       "      <td>1</td>\n",
       "    </tr>\n",
       "    <tr>\n",
       "      <th>2</th>\n",
       "      <td>3</td>\n",
       "      <td>BOMBA!!! S�tio caiu! Delator confirma s�tio A...</td>\n",
       "      <td>0</td>\n",
       "      <td>52</td>\n",
       "      <td>1</td>\n",
       "    </tr>\n",
       "    <tr>\n",
       "      <th>3</th>\n",
       "      <td>4</td>\n",
       "      <td>processo contra Romero Juc� ficou QUATORZE an...</td>\n",
       "      <td>0</td>\n",
       "      <td>54</td>\n",
       "      <td>1</td>\n",
       "    </tr>\n",
       "    <tr>\n",
       "      <th>4</th>\n",
       "      <td>5</td>\n",
       "      <td>Ser� petismo decidiu criticar benef�cios injus...</td>\n",
       "      <td>0</td>\n",
       "      <td>0</td>\n",
       "      <td>1</td>\n",
       "    </tr>\n",
       "  </tbody>\n",
       "</table>\n",
       "</div>"
      ],
      "text/plain": [
       "   Unnamed: 0                                               text  \\\n",
       "0           1  Retweeted D�cio Lima (@deciolimapt):  �Nunca f...   \n",
       "1           2   Vers�o estendida.  Aqui, Marcia Tiburi justif...   \n",
       "2           3   BOMBA!!! S�tio caiu! Delator confirma s�tio A...   \n",
       "3           4   processo contra Romero Juc� ficou QUATORZE an...   \n",
       "4           5  Ser� petismo decidiu criticar benef�cios injus...   \n",
       "\n",
       "   favoriteCount  retweetCount  politico  \n",
       "0              0             0         1  \n",
       "1              0            86         1  \n",
       "2              0            52         1  \n",
       "3              0            54         1  \n",
       "4              0             0         1  "
      ]
     },
     "execution_count": 2,
     "metadata": {},
     "output_type": "execute_result"
    }
   ],
   "source": [
    "data = pd.read_csv(\"tweetsGeral.csv\")\n",
    "data.head()"
   ]
  },
  {
   "cell_type": "code",
   "execution_count": 3,
   "metadata": {
    "scrolled": true
   },
   "outputs": [
    {
     "data": {
      "text/html": [
       "<div>\n",
       "<style>\n",
       "    .dataframe thead tr:only-child th {\n",
       "        text-align: right;\n",
       "    }\n",
       "\n",
       "    .dataframe thead th {\n",
       "        text-align: left;\n",
       "    }\n",
       "\n",
       "    .dataframe tbody tr th {\n",
       "        vertical-align: top;\n",
       "    }\n",
       "</style>\n",
       "<table border=\"1\" class=\"dataframe\">\n",
       "  <thead>\n",
       "    <tr style=\"text-align: right;\">\n",
       "      <th></th>\n",
       "      <th>Unnamed: 0</th>\n",
       "      <th>text</th>\n",
       "      <th>favoriteCount</th>\n",
       "      <th>retweetCount</th>\n",
       "      <th>politico</th>\n",
       "    </tr>\n",
       "  </thead>\n",
       "  <tbody>\n",
       "    <tr>\n",
       "      <th>13647</th>\n",
       "      <td>13787</td>\n",
       "      <td>To louca trabalhar, mudar essa rotina gente i...</td>\n",
       "      <td>0</td>\n",
       "      <td>17</td>\n",
       "      <td>0</td>\n",
       "    </tr>\n",
       "    <tr>\n",
       "      <th>13648</th>\n",
       "      <td>13788</td>\n",
       "      <td>Saudades tempos n�o voltam mais</td>\n",
       "      <td>0</td>\n",
       "      <td>530</td>\n",
       "      <td>0</td>\n",
       "    </tr>\n",
       "    <tr>\n",
       "      <th>13649</th>\n",
       "      <td>13789</td>\n",
       "      <td>@S_Pekiinhaa Uhum</td>\n",
       "      <td>0</td>\n",
       "      <td>1</td>\n",
       "      <td>0</td>\n",
       "    </tr>\n",
       "    <tr>\n",
       "      <th>13650</th>\n",
       "      <td>13790</td>\n",
       "      <td>�ltima atualiza��o visitantes meu perfil</td>\n",
       "      <td>0</td>\n",
       "      <td>0</td>\n",
       "      <td>0</td>\n",
       "    </tr>\n",
       "    <tr>\n",
       "      <th>13651</th>\n",
       "      <td>13791</td>\n",
       "      <td>Gente usa camisinha carnaval vcs s�o mto feio...</td>\n",
       "      <td>0</td>\n",
       "      <td>41</td>\n",
       "      <td>0</td>\n",
       "    </tr>\n",
       "  </tbody>\n",
       "</table>\n",
       "</div>"
      ],
      "text/plain": [
       "       Unnamed: 0                                               text  \\\n",
       "13647       13787   To louca trabalhar, mudar essa rotina gente i...   \n",
       "13648       13788                    Saudades tempos n�o voltam mais   \n",
       "13649       13789                                 @S_Pekiinhaa Uhum    \n",
       "13650       13790          �ltima atualiza��o visitantes meu perfil    \n",
       "13651       13791   Gente usa camisinha carnaval vcs s�o mto feio...   \n",
       "\n",
       "       favoriteCount  retweetCount  politico  \n",
       "13647              0            17         0  \n",
       "13648              0           530         0  \n",
       "13649              0             1         0  \n",
       "13650              0             0         0  \n",
       "13651              0            41         0  "
      ]
     },
     "execution_count": 3,
     "metadata": {},
     "output_type": "execute_result"
    }
   ],
   "source": [
    "data.tail()"
   ]
  },
  {
   "cell_type": "code",
   "execution_count": 4,
   "metadata": {},
   "outputs": [
    {
     "data": {
      "text/html": [
       "<div>\n",
       "<style>\n",
       "    .dataframe thead tr:only-child th {\n",
       "        text-align: right;\n",
       "    }\n",
       "\n",
       "    .dataframe thead th {\n",
       "        text-align: left;\n",
       "    }\n",
       "\n",
       "    .dataframe tbody tr th {\n",
       "        vertical-align: top;\n",
       "    }\n",
       "</style>\n",
       "<table border=\"1\" class=\"dataframe\">\n",
       "  <thead>\n",
       "    <tr style=\"text-align: right;\">\n",
       "      <th></th>\n",
       "      <th>favoriteCount</th>\n",
       "      <th>retweetCount</th>\n",
       "    </tr>\n",
       "    <tr>\n",
       "      <th>politico</th>\n",
       "      <th></th>\n",
       "      <th></th>\n",
       "    </tr>\n",
       "  </thead>\n",
       "  <tbody>\n",
       "    <tr>\n",
       "      <th>0</th>\n",
       "      <td>0.051176</td>\n",
       "      <td>748.910147</td>\n",
       "    </tr>\n",
       "    <tr>\n",
       "      <th>1</th>\n",
       "      <td>22.265032</td>\n",
       "      <td>33.574723</td>\n",
       "    </tr>\n",
       "  </tbody>\n",
       "</table>\n",
       "</div>"
      ],
      "text/plain": [
       "          favoriteCount  retweetCount\n",
       "politico                             \n",
       "0              0.051176    748.910147\n",
       "1             22.265032     33.574723"
      ]
     },
     "execution_count": 4,
     "metadata": {},
     "output_type": "execute_result"
    }
   ],
   "source": [
    "data[['favoriteCount', 'retweetCount', 'politico']].groupby('politico').mean()"
   ]
  },
  {
   "cell_type": "code",
   "execution_count": 5,
   "metadata": {},
   "outputs": [
    {
     "data": {
      "text/plain": [
       "array([[<matplotlib.axes._subplots.AxesSubplot object at 0x000000000C927CC0>]], dtype=object)"
      ]
     },
     "execution_count": 5,
     "metadata": {},
     "output_type": "execute_result"
    },
    {
     "data": {
      "image/png": "[encoded data removed]",
      "text/plain": [
       "<matplotlib.figure.Figure at 0xc94b2e8>"
      ]
     },
     "metadata": {
      "image/png": {
       "height": 263,
       "width": 383
      }
     },
     "output_type": "display_data"
    }
   ],
   "source": [
    "pd.DataFrame(data.politico).hist()"
   ]
  },
  {
   "cell_type": "markdown",
   "metadata": {},
   "source": [
    "## 3 - Dados com features não-textuais\n",
    "\n",
    "Para essa seção, usaremos a base de dados que possuem as informações não-textuais dos tweets."
   ]
  },
  {
   "cell_type": "markdown",
   "metadata": {
    "collapsed": true
   },
   "source": [
    "### 3.1 - Preparando os Dados\n",
    "\n",
    "Para a classificação dos tweets, foi gerada uma nova *bag of words* TFIDF incluindo as características não-textuais."
   ]
  },
  {
   "cell_type": "code",
   "execution_count": 6,
   "metadata": {
    "collapsed": true
   },
   "outputs": [],
   "source": [
    "bowComFeature = pd.read_csv(\"bow_tweets_carac.csv\")"
   ]
  },
  {
   "cell_type": "code",
   "execution_count": 7,
   "metadata": {
    "collapsed": true
   },
   "outputs": [],
   "source": [
    "Y_feature = bowComFeature[bowComFeature.columns[0]]\n",
    "Y_feature = np.ravel(Y_feature)"
   ]
  },
  {
   "cell_type": "code",
   "execution_count": 8,
   "metadata": {
    "collapsed": true
   },
   "outputs": [],
   "source": [
    "bowComFeature.drop(bowComFeature.columns[[0]], axis=1, inplace=True)"
   ]
  },
  {
   "cell_type": "code",
   "execution_count": 9,
   "metadata": {
    "collapsed": true
   },
   "outputs": [],
   "source": [
    "dataX_feature = bowComFeature\n",
    "dataY_feature = bowComFeature[bowComFeature.shape[0]:]"
   ]
  },
  {
   "cell_type": "markdown",
   "metadata": {},
   "source": [
    "### 3.2 - Regressão Logística"
   ]
  },
  {
   "cell_type": "code",
   "execution_count": 10,
   "metadata": {},
   "outputs": [
    {
     "data": {
      "text/plain": [
       "0.97859046984338549"
      ]
     },
     "execution_count": 10,
     "metadata": {},
     "output_type": "execute_result"
    }
   ],
   "source": [
    "modelFeature = LogisticRegression()\n",
    "modelFeature = modelFeature.fit(dataX_feature, Y_feature)\n",
    "\n",
    "# check the accuracy on the training set\n",
    "modelFeature.score(dataX_feature, Y_feature)"
   ]
  },
  {
   "cell_type": "code",
   "execution_count": 11,
   "metadata": {},
   "outputs": [
    {
     "data": {
      "text/html": [
       "<div>\n",
       "<style>\n",
       "    .dataframe thead tr:only-child th {\n",
       "        text-align: right;\n",
       "    }\n",
       "\n",
       "    .dataframe thead th {\n",
       "        text-align: left;\n",
       "    }\n",
       "\n",
       "    .dataframe tbody tr th {\n",
       "        vertical-align: top;\n",
       "    }\n",
       "</style>\n",
       "<table border=\"1\" class=\"dataframe\">\n",
       "  <thead>\n",
       "    <tr style=\"text-align: right;\">\n",
       "      <th></th>\n",
       "      <th>0</th>\n",
       "      <th>1</th>\n",
       "    </tr>\n",
       "  </thead>\n",
       "  <tbody>\n",
       "    <tr>\n",
       "      <th>0</th>\n",
       "      <td>1.671309552851148</td>\n",
       "      <td>[-2.20607862132]</td>\n",
       "    </tr>\n",
       "    <tr>\n",
       "      <th>1</th>\n",
       "      <td>0.0</td>\n",
       "      <td>[-0.145908538696]</td>\n",
       "    </tr>\n",
       "    <tr>\n",
       "      <th>2</th>\n",
       "      <td>0.0.1</td>\n",
       "      <td>[-0.0326021750188]</td>\n",
       "    </tr>\n",
       "    <tr>\n",
       "      <th>3</th>\n",
       "      <td>0.0.2</td>\n",
       "      <td>[4.22647378056e-07]</td>\n",
       "    </tr>\n",
       "    <tr>\n",
       "      <th>4</th>\n",
       "      <td>0.0.3</td>\n",
       "      <td>[-0.0426859795352]</td>\n",
       "    </tr>\n",
       "    <tr>\n",
       "      <th>5</th>\n",
       "      <td>0.0.4</td>\n",
       "      <td>[-0.0297147780963]</td>\n",
       "    </tr>\n",
       "    <tr>\n",
       "      <th>6</th>\n",
       "      <td>0.0.5</td>\n",
       "      <td>[3.10358947109e-06]</td>\n",
       "    </tr>\n",
       "    <tr>\n",
       "      <th>7</th>\n",
       "      <td>0.0.6</td>\n",
       "      <td>[-0.0299919900939]</td>\n",
       "    </tr>\n",
       "    <tr>\n",
       "      <th>8</th>\n",
       "      <td>0.0.7</td>\n",
       "      <td>[-0.0393682777446]</td>\n",
       "    </tr>\n",
       "    <tr>\n",
       "      <th>9</th>\n",
       "      <td>0.0.8</td>\n",
       "      <td>[0.691951314798]</td>\n",
       "    </tr>\n",
       "    <tr>\n",
       "      <th>10</th>\n",
       "      <td>0.0.9</td>\n",
       "      <td>[0.133671610031]</td>\n",
       "    </tr>\n",
       "    <tr>\n",
       "      <th>11</th>\n",
       "      <td>0.0.10</td>\n",
       "      <td>[2.11521703967e-06]</td>\n",
       "    </tr>\n",
       "    <tr>\n",
       "      <th>12</th>\n",
       "      <td>0.0.11</td>\n",
       "      <td>[-0.068482533388]</td>\n",
       "    </tr>\n",
       "    <tr>\n",
       "      <th>13</th>\n",
       "      <td>0.0.12</td>\n",
       "      <td>[0.0711948667989]</td>\n",
       "    </tr>\n",
       "    <tr>\n",
       "      <th>14</th>\n",
       "      <td>0.0.13</td>\n",
       "      <td>[-0.0149545332555]</td>\n",
       "    </tr>\n",
       "    <tr>\n",
       "      <th>15</th>\n",
       "      <td>0.0.14</td>\n",
       "      <td>[0.0573654326497]</td>\n",
       "    </tr>\n",
       "    <tr>\n",
       "      <th>16</th>\n",
       "      <td>0.0.15</td>\n",
       "      <td>[-0.0507575024858]</td>\n",
       "    </tr>\n",
       "    <tr>\n",
       "      <th>17</th>\n",
       "      <td>0.0.16</td>\n",
       "      <td>[0.0747715043241]</td>\n",
       "    </tr>\n",
       "    <tr>\n",
       "      <th>18</th>\n",
       "      <td>0.0.17</td>\n",
       "      <td>[-0.046707105105]</td>\n",
       "    </tr>\n",
       "    <tr>\n",
       "      <th>19</th>\n",
       "      <td>0.0.18</td>\n",
       "      <td>[-0.0189962420957]</td>\n",
       "    </tr>\n",
       "    <tr>\n",
       "      <th>20</th>\n",
       "      <td>0.0.19</td>\n",
       "      <td>[-0.197338206561]</td>\n",
       "    </tr>\n",
       "    <tr>\n",
       "      <th>21</th>\n",
       "      <td>0.0.20</td>\n",
       "      <td>[-0.215305374096]</td>\n",
       "    </tr>\n",
       "    <tr>\n",
       "      <th>22</th>\n",
       "      <td>0.0.21</td>\n",
       "      <td>[0.0840523220514]</td>\n",
       "    </tr>\n",
       "    <tr>\n",
       "      <th>23</th>\n",
       "      <td>0.0.22</td>\n",
       "      <td>[-0.0282966286509]</td>\n",
       "    </tr>\n",
       "    <tr>\n",
       "      <th>24</th>\n",
       "      <td>0.0.23</td>\n",
       "      <td>[1.64589781671e-05]</td>\n",
       "    </tr>\n",
       "    <tr>\n",
       "      <th>25</th>\n",
       "      <td>0.0.24</td>\n",
       "      <td>[-0.0231658019429]</td>\n",
       "    </tr>\n",
       "    <tr>\n",
       "      <th>26</th>\n",
       "      <td>0.0.25</td>\n",
       "      <td>[-0.365713702174]</td>\n",
       "    </tr>\n",
       "    <tr>\n",
       "      <th>27</th>\n",
       "      <td>0.0.26</td>\n",
       "      <td>[0.000715030258221]</td>\n",
       "    </tr>\n",
       "    <tr>\n",
       "      <th>28</th>\n",
       "      <td>0.0.27</td>\n",
       "      <td>[-0.388844801591]</td>\n",
       "    </tr>\n",
       "    <tr>\n",
       "      <th>29</th>\n",
       "      <td>0.0.28</td>\n",
       "      <td>[0.000364837065018]</td>\n",
       "    </tr>\n",
       "    <tr>\n",
       "      <th>...</th>\n",
       "      <td>...</td>\n",
       "      <td>...</td>\n",
       "    </tr>\n",
       "    <tr>\n",
       "      <th>19922</th>\n",
       "      <td>0.0.19921</td>\n",
       "      <td>[1.42262564703e-05]</td>\n",
       "    </tr>\n",
       "    <tr>\n",
       "      <th>19923</th>\n",
       "      <td>0.0.19922</td>\n",
       "      <td>[-0.0694916535501]</td>\n",
       "    </tr>\n",
       "    <tr>\n",
       "      <th>19924</th>\n",
       "      <td>0.0.19923</td>\n",
       "      <td>[0.0308300663409]</td>\n",
       "    </tr>\n",
       "    <tr>\n",
       "      <th>19925</th>\n",
       "      <td>0.0.19924</td>\n",
       "      <td>[0.000359874132047]</td>\n",
       "    </tr>\n",
       "    <tr>\n",
       "      <th>19926</th>\n",
       "      <td>0.0.19925</td>\n",
       "      <td>[-0.0500171391614]</td>\n",
       "    </tr>\n",
       "    <tr>\n",
       "      <th>19927</th>\n",
       "      <td>0.0.19926</td>\n",
       "      <td>[-0.0684063277387]</td>\n",
       "    </tr>\n",
       "    <tr>\n",
       "      <th>19928</th>\n",
       "      <td>0.0.19927</td>\n",
       "      <td>[1.47313056109e-07]</td>\n",
       "    </tr>\n",
       "    <tr>\n",
       "      <th>19929</th>\n",
       "      <td>0.0.19928</td>\n",
       "      <td>[0.213052202858]</td>\n",
       "    </tr>\n",
       "    <tr>\n",
       "      <th>19930</th>\n",
       "      <td>0.0.19929</td>\n",
       "      <td>[-0.100213778527]</td>\n",
       "    </tr>\n",
       "    <tr>\n",
       "      <th>19931</th>\n",
       "      <td>0.0.19930</td>\n",
       "      <td>[-0.34730336422]</td>\n",
       "    </tr>\n",
       "    <tr>\n",
       "      <th>19932</th>\n",
       "      <td>0.0.19931</td>\n",
       "      <td>[2.89673555626e-06]</td>\n",
       "    </tr>\n",
       "    <tr>\n",
       "      <th>19933</th>\n",
       "      <td>0.0.19932</td>\n",
       "      <td>[-0.0280357464073]</td>\n",
       "    </tr>\n",
       "    <tr>\n",
       "      <th>19934</th>\n",
       "      <td>0.0.19933</td>\n",
       "      <td>[0.0469233222]</td>\n",
       "    </tr>\n",
       "    <tr>\n",
       "      <th>19935</th>\n",
       "      <td>0.0.19934</td>\n",
       "      <td>[0.0598839726754]</td>\n",
       "    </tr>\n",
       "    <tr>\n",
       "      <th>19936</th>\n",
       "      <td>0.0.19935</td>\n",
       "      <td>[0.0579019403898]</td>\n",
       "    </tr>\n",
       "    <tr>\n",
       "      <th>19937</th>\n",
       "      <td>0.0.19936</td>\n",
       "      <td>[-0.050627454367]</td>\n",
       "    </tr>\n",
       "    <tr>\n",
       "      <th>19938</th>\n",
       "      <td>0.0.19937</td>\n",
       "      <td>[0.0771360674078]</td>\n",
       "    </tr>\n",
       "    <tr>\n",
       "      <th>19939</th>\n",
       "      <td>0.0.19938</td>\n",
       "      <td>[-0.0959715563953]</td>\n",
       "    </tr>\n",
       "    <tr>\n",
       "      <th>19940</th>\n",
       "      <td>0.0.19939</td>\n",
       "      <td>[0.0841664808054]</td>\n",
       "    </tr>\n",
       "    <tr>\n",
       "      <th>19941</th>\n",
       "      <td>0.0.19940</td>\n",
       "      <td>[1.0681401853e-05]</td>\n",
       "    </tr>\n",
       "    <tr>\n",
       "      <th>19942</th>\n",
       "      <td>0.0.19941</td>\n",
       "      <td>[-0.0493968183152]</td>\n",
       "    </tr>\n",
       "    <tr>\n",
       "      <th>19943</th>\n",
       "      <td>0.0.19942</td>\n",
       "      <td>[0.000640927314317]</td>\n",
       "    </tr>\n",
       "    <tr>\n",
       "      <th>19944</th>\n",
       "      <td>0.0.19943</td>\n",
       "      <td>[0.0275793427844]</td>\n",
       "    </tr>\n",
       "    <tr>\n",
       "      <th>19945</th>\n",
       "      <td>0.0.19944</td>\n",
       "      <td>[-0.046707105105]</td>\n",
       "    </tr>\n",
       "    <tr>\n",
       "      <th>19946</th>\n",
       "      <td>0.0.19945</td>\n",
       "      <td>[-0.202476071665]</td>\n",
       "    </tr>\n",
       "    <tr>\n",
       "      <th>19947</th>\n",
       "      <td>0.0.19946</td>\n",
       "      <td>[2.03142081496e-05]</td>\n",
       "    </tr>\n",
       "    <tr>\n",
       "      <th>19948</th>\n",
       "      <td>0.0.19947</td>\n",
       "      <td>[0.000865143114671]</td>\n",
       "    </tr>\n",
       "    <tr>\n",
       "      <th>19949</th>\n",
       "      <td>0.0.19948</td>\n",
       "      <td>[0.0419425925531]</td>\n",
       "    </tr>\n",
       "    <tr>\n",
       "      <th>19950</th>\n",
       "      <td>15</td>\n",
       "      <td>[0.941426053558]</td>\n",
       "    </tr>\n",
       "    <tr>\n",
       "      <th>19951</th>\n",
       "      <td>8</td>\n",
       "      <td>[-0.000448406527059]</td>\n",
       "    </tr>\n",
       "  </tbody>\n",
       "</table>\n",
       "<p>19952 rows × 2 columns</p>\n",
       "</div>"
      ],
      "text/plain": [
       "                        0                     1\n",
       "0       1.671309552851148      [-2.20607862132]\n",
       "1                     0.0     [-0.145908538696]\n",
       "2                   0.0.1    [-0.0326021750188]\n",
       "3                   0.0.2   [4.22647378056e-07]\n",
       "4                   0.0.3    [-0.0426859795352]\n",
       "5                   0.0.4    [-0.0297147780963]\n",
       "6                   0.0.5   [3.10358947109e-06]\n",
       "7                   0.0.6    [-0.0299919900939]\n",
       "8                   0.0.7    [-0.0393682777446]\n",
       "9                   0.0.8      [0.691951314798]\n",
       "10                  0.0.9      [0.133671610031]\n",
       "11                 0.0.10   [2.11521703967e-06]\n",
       "12                 0.0.11     [-0.068482533388]\n",
       "13                 0.0.12     [0.0711948667989]\n",
       "14                 0.0.13    [-0.0149545332555]\n",
       "15                 0.0.14     [0.0573654326497]\n",
       "16                 0.0.15    [-0.0507575024858]\n",
       "17                 0.0.16     [0.0747715043241]\n",
       "18                 0.0.17     [-0.046707105105]\n",
       "19                 0.0.18    [-0.0189962420957]\n",
       "20                 0.0.19     [-0.197338206561]\n",
       "21                 0.0.20     [-0.215305374096]\n",
       "22                 0.0.21     [0.0840523220514]\n",
       "23                 0.0.22    [-0.0282966286509]\n",
       "24                 0.0.23   [1.64589781671e-05]\n",
       "25                 0.0.24    [-0.0231658019429]\n",
       "26                 0.0.25     [-0.365713702174]\n",
       "27                 0.0.26   [0.000715030258221]\n",
       "28                 0.0.27     [-0.388844801591]\n",
       "29                 0.0.28   [0.000364837065018]\n",
       "...                   ...                   ...\n",
       "19922           0.0.19921   [1.42262564703e-05]\n",
       "19923           0.0.19922    [-0.0694916535501]\n",
       "19924           0.0.19923     [0.0308300663409]\n",
       "19925           0.0.19924   [0.000359874132047]\n",
       "19926           0.0.19925    [-0.0500171391614]\n",
       "19927           0.0.19926    [-0.0684063277387]\n",
       "19928           0.0.19927   [1.47313056109e-07]\n",
       "19929           0.0.19928      [0.213052202858]\n",
       "19930           0.0.19929     [-0.100213778527]\n",
       "19931           0.0.19930      [-0.34730336422]\n",
       "19932           0.0.19931   [2.89673555626e-06]\n",
       "19933           0.0.19932    [-0.0280357464073]\n",
       "19934           0.0.19933        [0.0469233222]\n",
       "19935           0.0.19934     [0.0598839726754]\n",
       "19936           0.0.19935     [0.0579019403898]\n",
       "19937           0.0.19936     [-0.050627454367]\n",
       "19938           0.0.19937     [0.0771360674078]\n",
       "19939           0.0.19938    [-0.0959715563953]\n",
       "19940           0.0.19939     [0.0841664808054]\n",
       "19941           0.0.19940    [1.0681401853e-05]\n",
       "19942           0.0.19941    [-0.0493968183152]\n",
       "19943           0.0.19942   [0.000640927314317]\n",
       "19944           0.0.19943     [0.0275793427844]\n",
       "19945           0.0.19944     [-0.046707105105]\n",
       "19946           0.0.19945     [-0.202476071665]\n",
       "19947           0.0.19946   [2.03142081496e-05]\n",
       "19948           0.0.19947   [0.000865143114671]\n",
       "19949           0.0.19948     [0.0419425925531]\n",
       "19950                  15      [0.941426053558]\n",
       "19951                   8  [-0.000448406527059]\n",
       "\n",
       "[19952 rows x 2 columns]"
      ]
     },
     "execution_count": 11,
     "metadata": {},
     "output_type": "execute_result"
    }
   ],
   "source": [
    "pd.DataFrame(zip(dataX_feature.columns, np.transpose(modelFeature.coef_)))"
   ]
  },
  {
   "cell_type": "markdown",
   "metadata": {},
   "source": [
    "#### 4.2.1 - Validação Cruzada"
   ]
  },
  {
   "cell_type": "code",
   "execution_count": 12,
   "metadata": {
    "collapsed": true
   },
   "outputs": [],
   "source": [
    "valores = [0.001, 0.005, 0.01, 0.05, 0.1, 1, 2, 3, 4, 5, 6, 7, 8, 9, 10]\n",
    "\n",
    "def score_acuracia(model, X, Y):\n",
    "    scores_acuracia= cross_val_score(model, X, Y, scoring=\"accuracy\", cv = 10)\n",
    "    return(scores_acuracia)"
   ]
  },
  {
   "cell_type": "code",
   "execution_count": 13,
   "metadata": {
    "collapsed": true
   },
   "outputs": [],
   "source": [
    "cv_acuracia_feature = [score_acuracia(LogisticRegression(C = valor), dataX_feature, Y_feature).mean() \n",
    "            for valor in valores]"
   ]
  },
  {
   "cell_type": "code",
   "execution_count": 14,
   "metadata": {},
   "outputs": [],
   "source": [
    "cv_acuracia_feature = pd.Series(cv_acuracia_feature, index = valores)\n"
   ]
  },
  {
   "cell_type": "code",
   "execution_count": 15,
   "metadata": {},
   "outputs": [
    {
     "name": "stdout",
     "output_type": "stream",
     "text": [
      "[[ -9.84749150e-01  -4.02071562e-02  -6.91369015e-03 ...,   1.10822821e-02\n",
      "    1.07326351e+00  -7.08863151e-04]]\n",
      "0.917777407531\n"
     ]
    }
   ],
   "source": [
    "lr_feature = LogisticRegression(C=0.05)\n",
    "modelo_feature = lr_feature.fit(dataX_feature, Y_feature)\n",
    "print modelo_feature.coef_\n",
    "acuracia_cv_feature = modelo_feature.score(dataX_feature, Y_feature)\n",
    "print acuracia_cv_feature"
   ]
  },
  {
   "cell_type": "markdown",
   "metadata": {},
   "source": [
    "#### 4.2.2 - Usando um Validation Set"
   ]
  },
  {
   "cell_type": "code",
   "execution_count": 16,
   "metadata": {},
   "outputs": [
    {
     "data": {
      "text/plain": [
       "LogisticRegression(C=0.05, class_weight=None, dual=False, fit_intercept=True,\n",
       "          intercept_scaling=1, max_iter=100, multi_class='ovr', n_jobs=1,\n",
       "          penalty='l2', random_state=None, solver='liblinear', tol=0.0001,\n",
       "          verbose=0, warm_start=False)"
      ]
     },
     "execution_count": 16,
     "metadata": {},
     "output_type": "execute_result"
    }
   ],
   "source": [
    "X_treino_feature, X_teste_feature, y_treino_feature, y_teste_feature = train_test_split(dataX_feature, Y_feature, test_size=0.3)\n",
    "modeloTreinoTesteFeature = LogisticRegression(C=0.05)\n",
    "modeloTreinoTesteFeature.fit(X_treino_feature, y_treino_feature)"
   ]
  },
  {
   "cell_type": "code",
   "execution_count": 17,
   "metadata": {},
   "outputs": [
    {
     "name": "stdout",
     "output_type": "stream",
     "text": [
      "[1 0 1 ..., 0 0 0]\n"
     ]
    }
   ],
   "source": [
    "predicao_feature = modeloTreinoTesteFeature.predict(X_teste_feature)\n",
    "print predicao_feature"
   ]
  },
  {
   "cell_type": "code",
   "execution_count": 18,
   "metadata": {},
   "outputs": [
    {
     "name": "stdout",
     "output_type": "stream",
     "text": [
      "0.884786229872\n"
     ]
    }
   ],
   "source": [
    "acuracia_vs_feature = metrics.accuracy_score(y_teste_feature, predicao_feature)\n",
    "print acuracia_vs_feature"
   ]
  },
  {
   "cell_type": "code",
   "execution_count": 19,
   "metadata": {},
   "outputs": [
    {
     "name": "stdout",
     "output_type": "stream",
     "text": [
      "[[1723   40]\n",
      " [ 375 1464]]\n",
      "             precision    recall  f1-score   support\n",
      "\n",
      "          0       0.82      0.98      0.89      1763\n",
      "          1       0.97      0.80      0.88      1839\n",
      "\n",
      "avg / total       0.90      0.88      0.88      3602\n",
      "\n"
     ]
    }
   ],
   "source": [
    "print metrics.confusion_matrix(y_teste_feature, predicao_feature)\n",
    "print metrics.classification_report(y_teste_feature, predicao_feature)"
   ]
  },
  {
   "cell_type": "markdown",
   "metadata": {},
   "source": [
    "## Resultados\n",
    "\n",
    "Podemos perceber que o uso da Regressão Logística para classificação de tweets políticos é viável devido à alta taxa de acertos do classificador."
   ]
  },
  {
   "cell_type": "code",
   "execution_count": 20,
   "metadata": {},
   "outputs": [
    {
     "name": "stdout",
     "output_type": "stream",
     "text": [
      "---------------------------------------------\n",
      "Dados com features:\n",
      "Cross Validation - Acurácia: 0.917777407531\n",
      "Validation Set - Acurácia: 0.884786229872\n",
      "---------------------------------------------\n"
     ]
    }
   ],
   "source": [
    "print \"---------------------------------------------\"\n",
    "\n",
    "print \"Dados com features:\"\n",
    "print(\"Cross Validation - Acurácia: {0}\").format(acuracia_cv_feature)\n",
    "print(\"Validation Set - Acurácia: {0}\").format(acuracia_vs_feature)\n",
    "print \"---------------------------------------------\""
   ]
  },
  {
   "cell_type": "code",
   "execution_count": null,
   "metadata": {
    "collapsed": true
   },
   "outputs": [],
   "source": []
  }
 ],
 "metadata": {
  "celltoolbar": "Raw Cell Format",
  "kernelspec": {
   "display_name": "Python 2",
   "language": "python",
   "name": "python2"
  },
  "language_info": {
   "codemirror_mode": {
    "name": "ipython",
    "version": 2
   },
   "file_extension": ".py",
   "mimetype": "text/x-python",
   "name": "python",
   "nbconvert_exporter": "python",
   "pygments_lexer": "ipython2",
   "version": "2.7.13"
  }
 },
 "nbformat": 4,
 "nbformat_minor": 2
}
